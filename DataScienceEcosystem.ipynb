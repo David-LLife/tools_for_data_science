{
 "cells": [
  {
   "cell_type": "markdown",
   "id": "3fe24799-f1d1-4559-a558-7d159d285a94",
   "metadata": {},
   "source": [
    "# Data Science Tools and Ecosystems"
   ]
  },
  {
   "cell_type": "markdown",
   "id": "694d7b69-e6e1-4399-ad42-2ed472771616",
   "metadata": {},
   "source": [
    "This notebook is a short summary on data science tools and ecosystems, followed by simple arithmetic expressions in python. It is to be used as a quick reference and is not meant to be exhaustive."
   ]
  },
  {
   "cell_type": "markdown",
   "id": "22d5539f",
   "metadata": {},
   "source": [
    "__Objectives:__\n",
    "- List the 3 popular data science languages\n",
    "- List common data science libraries for Python and R\n",
    "- List common development environments\n",
    "- Provide some simple python arithmetic examples"
   ]
  },
  {
   "cell_type": "markdown",
   "id": "dfc8546a-41a3-4753-afa9-caf9fa0f779e",
   "metadata": {},
   "source": [
    "Three popular data science languages are:\n",
    "1. [Python](https://python.land/data-science)\n",
    "2. [R](https://r4ds.hadley.nz/)\n",
    "3. [SQL](https://devopscube.com/sql-for-data-science/)"
   ]
  },
  {
   "cell_type": "markdown",
   "id": "3229bfef-9091-48b7-9565-4dee71534c8c",
   "metadata": {},
   "source": [
    "Some commonly used data science libraries for Python are:\n",
    "1. [Pandas](https://pandas.pydata.org/docs/getting_started/index.html)\n",
    "2. [Numpy](https://numpy.org/devdocs/user/quickstart.html)\n",
    "3. [Scikit-learn](https://scikit-learn.org/stable/getting_started.html)\n",
    "4. [Matplotlib](https://matplotlib.org/stable/users/explain/quick_start.html)\n",
    "5. [Seaborn](https://seaborn.pydata.org/tutorial/introduction.html)\n",
    "6. [Keras](https://keras.io/getting_started/intro_to_keras_for_engineers/)\n",
    "7. [Pytorch](https://pytorch.org/tutorials/beginner/basics/quickstart_tutorial.html)\n",
    "\n",
    "Some commonly used data science libraries for R are:\n",
    "1. [ggplot2](https://ggplot2.tidyverse.org/)\n",
    "2. [Tidyverse](https://www.tidyverse.org/) which includes 8 libraries, one of which is ggplot2"
   ]
  },
  {
   "cell_type": "markdown",
   "id": "5a935e50-c619-46f2-8599-aafae8e9efcf",
   "metadata": {},
   "source": [
    "Some of the most popular data science environments are listed below\n",
    "\n",
    "|Data science tools|\n",
    "|-|\n",
    "|[Jupyter Notebooks](https://jupyter.org/)|\n",
    "|[Zeppelin Notebooks](https://zeppelin.apache.org/)|\n",
    "|[RStudio](https://posit.co/download/rstudio-desktop/)|\n"
   ]
  },
  {
   "cell_type": "markdown",
   "id": "b3728b0c",
   "metadata": {},
   "source": [
    "### A few examples of arithmetic expressions with Python"
   ]
  },
  {
   "cell_type": "code",
   "execution_count": 2,
   "id": "8934a6d2",
   "metadata": {},
   "outputs": [
    {
     "data": {
      "text/plain": [
       "17"
      ]
     },
     "execution_count": 2,
     "metadata": {},
     "output_type": "execute_result"
    }
   ],
   "source": [
    "#Multiplying and adding with python. The parentheses are redundant\n",
    "(3*4)+5"
   ]
  },
  {
   "cell_type": "code",
   "execution_count": 3,
   "id": "f020341b",
   "metadata": {},
   "outputs": [
    {
     "data": {
      "text/plain": [
       "3.3333333333333335"
      ]
     },
     "execution_count": 3,
     "metadata": {},
     "output_type": "execute_result"
    }
   ],
   "source": [
    "#Code to convert 200 minutes into hours\n",
    "200/60"
   ]
  },
  {
   "cell_type": "markdown",
   "id": "295a2f91",
   "metadata": {},
   "source": [
    "## Author\n",
    "David"
   ]
  },
  {
   "cell_type": "code",
   "execution_count": null,
   "id": "067e4de9",
   "metadata": {},
   "outputs": [],
   "source": []
  }
 ],
 "metadata": {
  "kernelspec": {
   "display_name": "Python 3 (ipykernel)",
   "language": "python",
   "name": "python3"
  },
  "language_info": {
   "codemirror_mode": {
    "name": "ipython",
    "version": 3
   },
   "file_extension": ".py",
   "mimetype": "text/x-python",
   "name": "python",
   "nbconvert_exporter": "python",
   "pygments_lexer": "ipython3",
   "version": "3.11.5"
  }
 },
 "nbformat": 4,
 "nbformat_minor": 5
}
